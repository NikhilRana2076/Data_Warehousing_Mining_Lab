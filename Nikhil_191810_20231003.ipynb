{
 "cells": [
  {
   "cell_type": "markdown",
   "id": "28d75c49",
   "metadata": {},
   "source": [
    "# This is the first code in data mining"
   ]
  },
  {
   "cell_type": "code",
   "execution_count": 1,
   "id": "c656eebc",
   "metadata": {},
   "outputs": [
    {
     "name": "stdout",
     "output_type": "stream",
     "text": [
      "Hello\n"
     ]
    }
   ],
   "source": [
    "print (\"Hello\")"
   ]
  },
  {
   "cell_type": "markdown",
   "id": "a95ec87f",
   "metadata": {},
   "source": [
    "# Basic data types"
   ]
  },
  {
   "cell_type": "code",
   "execution_count": 2,
   "id": "f669d415",
   "metadata": {},
   "outputs": [
    {
     "name": "stdout",
     "output_type": "stream",
     "text": [
      "3\n",
      "<class 'int'>\n"
     ]
    }
   ],
   "source": [
    "#integers\n",
    "\n",
    "x = 3\n",
    "print (x)\n",
    "print(type(x))"
   ]
  },
  {
   "cell_type": "code",
   "execution_count": 5,
   "id": "08ac5231",
   "metadata": {},
   "outputs": [
    {
     "name": "stdout",
     "output_type": "stream",
     "text": [
      "Nikhil\n",
      "<class 'str'>\n"
     ]
    }
   ],
   "source": [
    "name = \"Nikhil\"\n",
    "print(name)$\n",
    "print(type(name))"
   ]
  },
  {
   "cell_type": "code",
   "execution_count": 6,
   "id": "bfc0ead9",
   "metadata": {},
   "outputs": [
    {
     "name": "stdout",
     "output_type": "stream",
     "text": [
      "<class 'int'>\n",
      "<class 'str'>\n"
     ]
    },
    {
     "ename": "TypeError",
     "evalue": "unsupported operand type(s) for +: 'int' and 'str'",
     "output_type": "error",
     "traceback": [
      "\u001b[1;31m---------------------------------------------------------------------------\u001b[0m",
      "\u001b[1;31mTypeError\u001b[0m                                 Traceback (most recent call last)",
      "Cell \u001b[1;32mIn[6], line 7\u001b[0m\n\u001b[0;32m      4\u001b[0m \u001b[38;5;28mprint\u001b[39m(\u001b[38;5;28mtype\u001b[39m(h))\n\u001b[0;32m      5\u001b[0m \u001b[38;5;28mprint\u001b[39m(\u001b[38;5;28mtype\u001b[39m(w))\n\u001b[1;32m----> 7\u001b[0m \u001b[38;5;28mprint\u001b[39m (\u001b[43mh\u001b[49m\u001b[38;5;241;43m+\u001b[39;49m\u001b[43mw\u001b[49m)\n",
      "\u001b[1;31mTypeError\u001b[0m: unsupported operand type(s) for +: 'int' and 'str'"
     ]
    }
   ],
   "source": [
    "h= 9\n",
    "w = 'nikhil'\n",
    "\n",
    "print(type(h))\n",
    "print(type(w))\n",
    "\n",
    "print (h+w)"
   ]
  },
  {
   "cell_type": "markdown",
   "id": "5e0b0ca9",
   "metadata": {},
   "source": [
    "# showing error"
   ]
  },
  {
   "cell_type": "code",
   "execution_count": 7,
   "id": "6a4e459b",
   "metadata": {},
   "outputs": [
    {
     "name": "stdout",
     "output_type": "stream",
     "text": [
      "True\n",
      "<class 'bool'>\n"
     ]
    }
   ],
   "source": [
    "t = True\n",
    "f = False\n",
    "\n",
    "print(t)\n",
    "print(type(t))"
   ]
  },
  {
   "cell_type": "markdown",
   "id": "fe5ebcac",
   "metadata": {},
   "source": [
    "# Basic operations"
   ]
  },
  {
   "cell_type": "code",
   "execution_count": 8,
   "id": "ab5b6abf",
   "metadata": {},
   "outputs": [
    {
     "name": "stdout",
     "output_type": "stream",
     "text": [
      "4\n",
      "1\n",
      "6\n",
      "9\n",
      "-1\n"
     ]
    }
   ],
   "source": [
    "x = 3\n",
    "\n",
    "print( x + 1)\n",
    "print( x - 2)\n",
    "print (x * 2)\n",
    "print (x ** 2)\n",
    "print (x-4)"
   ]
  },
  {
   "cell_type": "code",
   "execution_count": 11,
   "id": "a53c9510",
   "metadata": {},
   "outputs": [
    {
     "name": "stdout",
     "output_type": "stream",
     "text": [
      "12\n"
     ]
    }
   ],
   "source": [
    "x += 2\n",
    "print(x)"
   ]
  },
  {
   "cell_type": "code",
   "execution_count": 12,
   "id": "930ac67c",
   "metadata": {},
   "outputs": [
    {
     "name": "stdout",
     "output_type": "stream",
     "text": [
      "144\n"
     ]
    }
   ],
   "source": [
    "x **=2\n",
    "print(x)"
   ]
  },
  {
   "cell_type": "code",
   "execution_count": 13,
   "id": "38533687",
   "metadata": {},
   "outputs": [
    {
     "name": "stdout",
     "output_type": "stream",
     "text": [
      "False\n",
      "True\n"
     ]
    }
   ],
   "source": [
    "t = True\n",
    "f = False\n",
    "\n",
    "print(t and f)\n",
    "print(t or f)\n"
   ]
  },
  {
   "cell_type": "code",
   "execution_count": 20,
   "id": "758a3130",
   "metadata": {},
   "outputs": [
    {
     "name": "stdout",
     "output_type": "stream",
     "text": [
      "6\n",
      "Nikhil\n",
      "NIKHIL\n",
      "Nikhile\n",
      "Nikhil\n"
     ]
    }
   ],
   "source": [
    "s = \"Nikhil\"\n",
    "\n",
    "print(len(s))\n",
    "print(s.capitalize())\n",
    "print(s.upper())\n",
    "print(s.replace('l', 'le'))\n",
    "print(' Nikhil '.strip())"
   ]
  },
  {
   "cell_type": "code",
   "execution_count": 17,
   "id": "8ad686d7",
   "metadata": {},
   "outputs": [
    {
     "name": "stdout",
     "output_type": "stream",
     "text": [
      "hello pokhara\n"
     ]
    }
   ],
   "source": [
    "hw = 'hello' + ' ' + 'pokhara'\n",
    "print(hw)"
   ]
  },
  {
   "cell_type": "code",
   "execution_count": 24,
   "id": "aee5e5cf",
   "metadata": {},
   "outputs": [
    {
     "name": "stdout",
     "output_type": "stream",
     "text": [
      "Kathmandu is 200 Kilometers away from Pokhara.\n"
     ]
    }
   ],
   "source": [
    "city1 = \"Kathmandu\"\n",
    "city2 = \"Pokhara\"\n",
    "distance = 200\n",
    "unit = \"Kilometers\"\n",
    "print (\"%s is %d %s away from %s.\" % (city1, distance, unit, city2))"
   ]
  },
  {
   "cell_type": "markdown",
   "id": "4e3daf6b",
   "metadata": {},
   "source": [
    "# Foreach loop"
   ]
  },
  {
   "cell_type": "code",
   "execution_count": 25,
   "id": "945d37f5",
   "metadata": {},
   "outputs": [
    {
     "name": "stdout",
     "output_type": "stream",
     "text": [
      "0\n",
      "1\n",
      "2\n",
      "3\n"
     ]
    }
   ],
   "source": [
    "x = 4\n",
    "for i in range (0, x):\n",
    "    print(i)\n",
    "    x = 10"
   ]
  },
  {
   "cell_type": "code",
   "execution_count": 27,
   "id": "8fd1c99d",
   "metadata": {},
   "outputs": [
    {
     "name": "stdout",
     "output_type": "stream",
     "text": [
      "10\n"
     ]
    }
   ],
   "source": [
    "print(x)"
   ]
  },
  {
   "cell_type": "markdown",
   "id": "0b21e681",
   "metadata": {},
   "source": [
    "# Functions and Iterations"
   ]
  },
  {
   "cell_type": "code",
   "execution_count": 30,
   "id": "38f97bb5",
   "metadata": {},
   "outputs": [
    {
     "name": "stdout",
     "output_type": "stream",
     "text": [
      "Pokhara\n",
      "Hello Pokhara!\n",
      "kathmandu\n",
      "Hello kathmandu!\n"
     ]
    }
   ],
   "source": [
    "def nikhil(city):\n",
    "    print(city)\n",
    "    return 'Hello ' + city + '!'\n",
    "\n",
    "print(nikhil('Pokhara'))\n",
    "print(nikhil('kathmandu'))"
   ]
  },
  {
   "cell_type": "code",
   "execution_count": 33,
   "id": "552cdd9e",
   "metadata": {},
   "outputs": [
    {
     "name": "stdout",
     "output_type": "stream",
     "text": [
      "Pokhara\n",
      "Kathmandu\n",
      "Tashkent\n"
     ]
    }
   ],
   "source": [
    "def my_loop_function(city):\n",
    "    for x in city:\n",
    "        print(x)\n",
    "        \n",
    "cities = [\"Pokhara\", \"Kathmandu\", \"Tashkent\"]\n",
    "\n",
    "my_loop_function(cities)"
   ]
  },
  {
   "cell_type": "markdown",
   "id": "bb39d475",
   "metadata": {},
   "source": [
    "# Exercise \n",
    "\n",
    "write a function that takes 'city name' as input and prints 'city name'must be a beautiful city"
   ]
  },
  {
   "cell_type": "code",
   "execution_count": 36,
   "id": "10970ced",
   "metadata": {},
   "outputs": [
    {
     "name": "stdout",
     "output_type": "stream",
     "text": [
      "Enter the city name:Dharan\n",
      "Dharan must be beautiful.\n"
     ]
    }
   ],
   "source": [
    "def city(x):\n",
    "    print(x)\n",
    "    \n",
    "cty = input(\"Enter the city name:\")\n",
    "city(cty + ' must be beautiful.')\n",
    "    "
   ]
  },
  {
   "cell_type": "markdown",
   "id": "2c0b4708",
   "metadata": {},
   "source": [
    "# Reference semantics -Immutable and mutable data types"
   ]
  },
  {
   "cell_type": "code",
   "execution_count": 37,
   "id": "8fc52591",
   "metadata": {},
   "outputs": [
    {
     "name": "stdout",
     "output_type": "stream",
     "text": [
      "[2, 3, 4]\n",
      "1635373462208\n",
      "[2, 3, 4]\n",
      "1635373462208\n",
      "[2, 3, 4, 4]\n",
      "1635373462208\n",
      "[2, 3, 4, 4]\n",
      "1635373462208\n"
     ]
    }
   ],
   "source": [
    "a = [2, 3, 4]\n",
    "b = a\n",
    "print(a)\n",
    "print(id(a))\n",
    "print(b)\n",
    "print(id(b))\n",
    "\n",
    "a.append(4)\n",
    "\n",
    "print(a)\n",
    "print(id(a))\n",
    "print(b)\n",
    "print(id(b))"
   ]
  },
  {
   "cell_type": "code",
   "execution_count": 38,
   "id": "bdf42761",
   "metadata": {},
   "outputs": [
    {
     "name": "stdout",
     "output_type": "stream",
     "text": [
      "['Pokhara', 'Kathmandu', 'Mumbai']\n",
      "Mumbai\n"
     ]
    }
   ],
   "source": [
    "#python lists\n",
    "\n",
    "cities = [\"Pokhara\", \"Kathmandu\", \"Mumbai\"]\n",
    "print(cities)\n",
    "print(cities[2])"
   ]
  },
  {
   "cell_type": "code",
   "execution_count": 39,
   "id": "5108a323",
   "metadata": {},
   "outputs": [
    {
     "name": "stdout",
     "output_type": "stream",
     "text": [
      "['Pokhara', 'Kathmandu', 'Mumbai', 'Dhaka']\n",
      "['Pokhara', 'Kathmandu', 'Mumbai']\n"
     ]
    }
   ],
   "source": [
    "cities.append('Dhaka')\n",
    "print(cities)\n",
    "last_city = cities.pop()\n",
    "print(cities)"
   ]
  },
  {
   "cell_type": "code",
   "execution_count": 40,
   "id": "c4414a5d",
   "metadata": {},
   "outputs": [],
   "source": [
    "#Exercise\n",
    "#create a list of your 3 favourate foods. add your freinds fav foods"
   ]
  },
  {
   "cell_type": "code",
   "execution_count": 50,
   "id": "ca882ef4",
   "metadata": {},
   "outputs": [
    {
     "name": "stdout",
     "output_type": "stream",
     "text": [
      "['panipur', 'masu', 'laphing']\n",
      "['panipur', 'masu', 'laphing', 'momo', 'chowmin']\n"
     ]
    }
   ],
   "source": [
    "my_fav_food = ['panipur', 'masu', 'laphing']\n",
    "print(my_fav_food)\n",
    "prak = ['momo', 'chowmin']\n",
    "\n",
    "new = my_fav_food + prak\n",
    "print(new)"
   ]
  },
  {
   "cell_type": "code",
   "execution_count": null,
   "id": "879f301e",
   "metadata": {},
   "outputs": [],
   "source": []
  }
 ],
 "metadata": {
  "kernelspec": {
   "display_name": "Python 3 (ipykernel)",
   "language": "python",
   "name": "python3"
  },
  "language_info": {
   "codemirror_mode": {
    "name": "ipython",
    "version": 3
   },
   "file_extension": ".py",
   "mimetype": "text/x-python",
   "name": "python",
   "nbconvert_exporter": "python",
   "pygments_lexer": "ipython3",
   "version": "3.10.9"
  }
 },
 "nbformat": 4,
 "nbformat_minor": 5
}
