{
 "cells": [
  {
   "cell_type": "markdown",
   "id": "72a43ce0",
   "metadata": {},
   "source": [
    "Print the name of your home town or your friend:"
   ]
  },
  {
   "cell_type": "code",
   "execution_count": 2,
   "id": "e1814c52",
   "metadata": {},
   "outputs": [
    {
     "name": "stdout",
     "output_type": "stream",
     "text": [
      "Pramila\n"
     ]
    }
   ],
   "source": [
    "print(\"Pramila\");"
   ]
  },
  {
   "cell_type": "code",
   "execution_count": 12,
   "id": "bb85282a",
   "metadata": {},
   "outputs": [
    {
     "name": "stdout",
     "output_type": "stream",
     "text": [
      "Renuka\n"
     ]
    }
   ],
   "source": [
    "print(\"Renuka\")"
   ]
  },
  {
   "cell_type": "markdown",
   "id": "5117f4f1",
   "metadata": {},
   "source": [
    "# Basic Data Types:"
   ]
  },
  {
   "cell_type": "code",
   "execution_count": null,
   "id": "ad106385",
   "metadata": {},
   "outputs": [],
   "source": [
    "##Basic Data Types"
   ]
  },
  {
   "cell_type": "code",
   "execution_count": 3,
   "id": "f7d1298e",
   "metadata": {},
   "outputs": [
    {
     "name": "stdout",
     "output_type": "stream",
     "text": [
      "3\n",
      "<class 'int'>\n"
     ]
    }
   ],
   "source": [
    "#integers\n",
    "x = 3;\n",
    "print(x)\n",
    "print(type(x))"
   ]
  },
  {
   "cell_type": "code",
   "execution_count": 8,
   "id": "263d8da9",
   "metadata": {},
   "outputs": [
    {
     "name": "stdout",
     "output_type": "stream",
     "text": [
      "Hello\n",
      "<class 'str'>\n",
      "World\n",
      "<class 'str'>\n",
      "WorldHello\n",
      "HelloWorld\n"
     ]
    }
   ],
   "source": [
    "#Strings\n",
    "\n",
    "h = \"Hello\";\n",
    "w = \"World\";\n",
    "\n",
    "print(h)\n",
    "print(type(h))\n",
    "\n",
    "print(w)\n",
    "print(type(w))\n",
    "\n",
    "print(w+h)\n",
    "print(h +w)"
   ]
  },
  {
   "cell_type": "code",
   "execution_count": 9,
   "id": "7c931dbf",
   "metadata": {},
   "outputs": [
    {
     "ename": "TypeError",
     "evalue": "unsupported operand type(s) for +: 'int' and 'str'",
     "output_type": "error",
     "traceback": [
      "\u001b[0;31m---------------------------------------------------------------------------\u001b[0m",
      "\u001b[0;31mTypeError\u001b[0m                                 Traceback (most recent call last)",
      "Cell \u001b[0;32mIn[9], line 3\u001b[0m\n\u001b[1;32m      1\u001b[0m h \u001b[38;5;241m=\u001b[39m \u001b[38;5;241m9\u001b[39m \n\u001b[1;32m      2\u001b[0m w \u001b[38;5;241m=\u001b[39m \u001b[38;5;124m'\u001b[39m\u001b[38;5;124mnepal\u001b[39m\u001b[38;5;124m'\u001b[39m\n\u001b[0;32m----> 3\u001b[0m \u001b[38;5;28mprint\u001b[39m(h \u001b[38;5;241m+\u001b[39m w)\n",
      "\u001b[0;31mTypeError\u001b[0m: unsupported operand type(s) for +: 'int' and 'str'"
     ]
    }
   ],
   "source": [
    "h = 9 \n",
    "w = 'nepal'\n",
    "print(h + w)"
   ]
  },
  {
   "cell_type": "code",
   "execution_count": 10,
   "id": "4da5c9c4",
   "metadata": {},
   "outputs": [
    {
     "name": "stdout",
     "output_type": "stream",
     "text": [
      "True\n",
      "<class 'bool'>\n"
     ]
    }
   ],
   "source": [
    "#Boolean\n",
    "t = True\n",
    "f = False\n",
    "\n",
    "print(t)\n",
    "print(type(f))"
   ]
  },
  {
   "cell_type": "markdown",
   "id": "0a07e63b",
   "metadata": {},
   "source": [
    "# Basic Operations"
   ]
  },
  {
   "cell_type": "markdown",
   "id": "e4e6cb03",
   "metadata": {},
   "source": [
    "numeric, shorthand, string"
   ]
  },
  {
   "cell_type": "code",
   "execution_count": 13,
   "id": "99d9cde8",
   "metadata": {},
   "outputs": [
    {
     "name": "stdout",
     "output_type": "stream",
     "text": [
      "4\n",
      "2\n",
      "6\n",
      "9\n",
      "-1\n"
     ]
    }
   ],
   "source": [
    "#numeric Operators:\n",
    "\n",
    "x = 3 ;\n",
    "\n",
    "print(x+1)\n",
    "print(x -1)\n",
    "print(x * 2)\n",
    "print(x ** 2)\n",
    "print(x-4)"
   ]
  },
  {
   "cell_type": "code",
   "execution_count": 16,
   "id": "045c7f24",
   "metadata": {},
   "outputs": [
    {
     "name": "stdout",
     "output_type": "stream",
     "text": [
      "41616\n",
      "41617\n",
      "83234\n",
      "83236\n",
      "6928231696\n"
     ]
    }
   ],
   "source": [
    "#shorthand operators:\n",
    "\n",
    "print(x)\n",
    "x += 1\n",
    "print(x)\n",
    "\n",
    "x*= 2\n",
    "print(x)\n",
    "\n",
    "x+=2\n",
    "print(x)\n",
    "\n",
    "x**=2\n",
    "print(x)"
   ]
  },
  {
   "cell_type": "code",
   "execution_count": 17,
   "id": "5aa0b4c7",
   "metadata": {},
   "outputs": [
    {
     "name": "stdout",
     "output_type": "stream",
     "text": [
      "False\n",
      "True\n",
      "False\n",
      "True\n",
      "True\n"
     ]
    }
   ],
   "source": [
    "# Boolean operator\n",
    "t = True\n",
    "f= False\n",
    "\n",
    "print(t and f)\n",
    "print(t or f)\n",
    "print(not t)\n",
    "print(t != f)\n",
    "print(t)"
   ]
  },
  {
   "cell_type": "code",
   "execution_count": 18,
   "id": "db126648",
   "metadata": {},
   "outputs": [
    {
     "ename": "NameError",
     "evalue": "name 'hello' is not defined",
     "output_type": "error",
     "traceback": [
      "\u001b[0;31m---------------------------------------------------------------------------\u001b[0m",
      "\u001b[0;31mNameError\u001b[0m                                 Traceback (most recent call last)",
      "Cell \u001b[0;32mIn[18], line 3\u001b[0m\n\u001b[1;32m      1\u001b[0m \u001b[38;5;66;03m#String Concatenation\u001b[39;00m\n\u001b[0;32m----> 3\u001b[0m h \u001b[38;5;241m=\u001b[39m hello \u001b[38;5;241m+\u001b[39m \u001b[38;5;124m'\u001b[39m\u001b[38;5;124m \u001b[39m\u001b[38;5;124m'\u001b[39m \u001b[38;5;241m+\u001b[39m Pokhara\n\u001b[1;32m      4\u001b[0m \u001b[38;5;28mprint\u001b[39m(h)\n",
      "\u001b[0;31mNameError\u001b[0m: name 'hello' is not defined"
     ]
    }
   ],
   "source": [
    "#String Concatenation\n",
    "\n",
    "h = hello + ' ' + Pokhara\n",
    "print(h)"
   ]
  },
  {
   "cell_type": "code",
   "execution_count": 23,
   "id": "b7c99430",
   "metadata": {},
   "outputs": [
    {
     "name": "stdout",
     "output_type": "stream",
     "text": [
      "Hello Pokhara\n"
     ]
    }
   ],
   "source": [
    "#String Concatenation\n",
    "\n",
    "h = 'Hello' + ' ' + 'Pokhara'\n",
    "print(h)"
   ]
  },
  {
   "cell_type": "code",
   "execution_count": 29,
   "id": "4165f5c5",
   "metadata": {},
   "outputs": [
    {
     "name": "stdout",
     "output_type": "stream",
     "text": [
      "7\n",
      "Pokhara\n",
      "POKHARA\n",
      "pokhareli\n",
      " Pokhara\n"
     ]
    }
   ],
   "source": [
    " s = 'pokhara'\n",
    "    \n",
    "print(len(s))\n",
    "print(s.capitalize())\n",
    "print(s.upper())\n",
    "print(s.replace('ra', 'reli'))\n",
    "print(' Pokhara ' .rstrip())"
   ]
  },
  {
   "cell_type": "code",
   "execution_count": 36,
   "id": "a5551399",
   "metadata": {},
   "outputs": [
    {
     "name": "stdout",
     "output_type": "stream",
     "text": [
      "Hello, Pokhara!\n"
     ]
    }
   ],
   "source": [
    "#string formatting\n",
    "city =\"Pokhara\"\n",
    "print(f\"Hello, {city}!\") ###after f there should be no any space"
   ]
  },
  {
   "cell_type": "markdown",
   "id": "085bb079",
   "metadata": {},
   "source": [
    "# LOOP"
   ]
  },
  {
   "cell_type": "code",
   "execution_count": 38,
   "id": "79aa7823",
   "metadata": {},
   "outputs": [
    {
     "name": "stdout",
     "output_type": "stream",
     "text": [
      "0\n",
      "1\n",
      "2\n",
      "3\n",
      "4\n"
     ]
    }
   ],
   "source": [
    "x = 5\n",
    "for i in range (0 , x):\n",
    "    print(i)"
   ]
  },
  {
   "cell_type": "markdown",
   "id": "7eec5f07",
   "metadata": {},
   "source": [
    "# Functions and iterations "
   ]
  },
  {
   "cell_type": "code",
   "execution_count": 42,
   "id": "e845f594",
   "metadata": {},
   "outputs": [
    {
     "name": "stdout",
     "output_type": "stream",
     "text": [
      "Pokhara\n",
      "Hello Pokhara!\n",
      "Kathmandu\n",
      "Hello Kathmandu!\n"
     ]
    }
   ],
   "source": [
    "def my_function (city):\n",
    "    print(city)\n",
    "    return 'Hello' + ' ' + city + \"!\"\n",
    "\n",
    "print(my_function('Pokhara'))\n",
    "print(my_function('Kathmandu'))"
   ]
  },
  {
   "cell_type": "code",
   "execution_count": 46,
   "id": "24891520",
   "metadata": {},
   "outputs": [
    {
     "name": "stdout",
     "output_type": "stream",
     "text": [
      "Pokahara\n",
      "Kathmandu\n",
      "Lalitpur\n"
     ]
    }
   ],
   "source": [
    "def my_loop_function(city):\n",
    "    for x in city:\n",
    "        print(x)\n",
    "        \n",
    "cities = ['Pokahara', 'Kathmandu', 'Lalitpur']\n",
    "\n",
    "my_loop_function(cities)"
   ]
  },
  {
   "cell_type": "markdown",
   "id": "d573707c",
   "metadata": {},
   "source": [
    "# Exercise \n",
    "## Write a function that takes city name as input and prints'city name' must be a beautiful city. But we bet not as beautiful as Pokhara"
   ]
  },
  {
   "cell_type": "code",
   "execution_count": 47,
   "id": "1396fbac",
   "metadata": {},
   "outputs": [
    {
     "name": "stdout",
     "output_type": "stream",
     "text": [
      "Enter a city name:Pokhara\n",
      "Pokhara\n"
     ]
    }
   ],
   "source": [
    "def city_name(x):\n",
    "    print(x)\n",
    "city = input (\"Enter a city name:\")\n",
    "city_name(city)\n",
    "\n"
   ]
  },
  {
   "cell_type": "markdown",
   "id": "034c3621",
   "metadata": {},
   "source": [
    "# Mutable and immutable data\n"
   ]
  },
  {
   "cell_type": "code",
   "execution_count": 48,
   "id": "88857c34",
   "metadata": {},
   "outputs": [
    {
     "name": "stdout",
     "output_type": "stream",
     "text": [
      "[1, 2, 3]\n",
      "4405930752\n",
      "[1, 2, 3]\n",
      "4405930752\n",
      "[1, 2, 3, 4]\n",
      "4405930752\n",
      "[1, 2, 3, 4]\n",
      "4405930752\n"
     ]
    }
   ],
   "source": [
    "a = [1,2,3]\n",
    "b = a\n",
    "print (a)\n",
    "print(id(a))\n",
    "\n",
    "print(b)\n",
    "print(id(b))\n",
    "\n",
    "a.append(4)\n",
    "print(a)\n",
    "print(id(a))\n",
    "print(b)\n",
    "print(id(b))"
   ]
  },
  {
   "cell_type": "markdown",
   "id": "5599c17d",
   "metadata": {},
   "source": [
    "# Python Data types- List , Tuples, Sets and Dictionaries"
   ]
  },
  {
   "cell_type": "code",
   "execution_count": 49,
   "id": "6421efbd",
   "metadata": {},
   "outputs": [
    {
     "name": "stdout",
     "output_type": "stream",
     "text": [
      "['Pokhara', 'Kathmandu', ' Mumbai']\n",
      " Mumbai\n"
     ]
    }
   ],
   "source": [
    "cities = [\"Pokhara\", \"Kathmandu\", \" Mumbai\"]\n",
    "print(cities)\n",
    "print(cities[2])\n"
   ]
  },
  {
   "cell_type": "code",
   "execution_count": 50,
   "id": "095b26e6",
   "metadata": {},
   "outputs": [
    {
     "name": "stdout",
     "output_type": "stream",
     "text": [
      "['Pokhara', 'Kathmandu', ' Mumbai', 'Dhaka']\n"
     ]
    }
   ],
   "source": [
    "cities.append('Dhaka')\n",
    "print(cities)"
   ]
  },
  {
   "cell_type": "code",
   "execution_count": 53,
   "id": "d1db2941",
   "metadata": {
    "scrolled": true
   },
   "outputs": [
    {
     "name": "stdout",
     "output_type": "stream",
     "text": [
      "['Pokhara', 'Kathmandu', ' Mumbai', 'Dhaka', 1, 'Lalitpur']\n"
     ]
    }
   ],
   "source": [
    "cities.append(1)\n",
    "cities.append('Lalitpur')\n",
    "print(cities)"
   ]
  },
  {
   "cell_type": "code",
   "execution_count": 54,
   "id": "d196ae5b",
   "metadata": {},
   "outputs": [
    {
     "name": "stdout",
     "output_type": "stream",
     "text": [
      "['Pokhara', 'Kathmandu', ' Mumbai', 'Dhaka', 1]\n"
     ]
    }
   ],
   "source": [
    "last_city = cities.pop()\n",
    "print(cities)"
   ]
  },
  {
   "cell_type": "markdown",
   "id": "e270d278",
   "metadata": {},
   "source": [
    "#"
   ]
  },
  {
   "cell_type": "code",
   "execution_count": 62,
   "id": "1ea1930a",
   "metadata": {},
   "outputs": [
    {
     "name": "stdout",
     "output_type": "stream",
     "text": [
      "['Mo:MO', 'Pizza', 'Coffee', 'Noodles']\n"
     ]
    }
   ],
   "source": [
    "foods =['Mo:MO', 'Pizza']\n",
    "foods.append('Coffee')\n",
    "foods.append('Noodles')\n",
    "print(foods)"
   ]
  },
  {
   "cell_type": "code",
   "execution_count": 59,
   "id": "ab46a849",
   "metadata": {},
   "outputs": [
    {
     "name": "stdout",
     "output_type": "stream",
     "text": [
      "abc\n",
      "23\n"
     ]
    }
   ],
   "source": [
    "#Tuples:\n",
    "\n",
    "tu =(23 , 'abc', 4.56, (2,3), 'def')\n",
    "print(tu[1])\n",
    "print(tu[0])"
   ]
  },
  {
   "cell_type": "code",
   "execution_count": null,
   "id": "1180f15a",
   "metadata": {},
   "outputs": [],
   "source": []
  }
 ],
 "metadata": {
  "kernelspec": {
   "display_name": "Python 3 (ipykernel)",
   "language": "python",
   "name": "python3"
  },
  "language_info": {
   "codemirror_mode": {
    "name": "ipython",
    "version": 3
   },
   "file_extension": ".py",
   "mimetype": "text/x-python",
   "name": "python",
   "nbconvert_exporter": "python",
   "pygments_lexer": "ipython3",
   "version": "3.10.9"
  }
 },
 "nbformat": 4,
 "nbformat_minor": 5
}
