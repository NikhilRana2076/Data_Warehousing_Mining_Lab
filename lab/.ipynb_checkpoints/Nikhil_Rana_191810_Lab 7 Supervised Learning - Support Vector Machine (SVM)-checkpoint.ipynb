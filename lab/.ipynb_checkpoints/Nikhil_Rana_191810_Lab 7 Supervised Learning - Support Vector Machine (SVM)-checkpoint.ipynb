{
 "cells": [
  {
   "cell_type": "markdown",
   "metadata": {},
   "source": [
    "## Define in short each of the following:\n",
    "Certainly! Here are short definitions for each of the terms:\n",
    "\n",
    "### Support Vector Machine (SVM): \n",
    "SVM is a supervised machine learning algorithm used for classification and regression tasks. It finds the optimal hyperplane in a high-dimensional space that best separates the classes in the input data.\n",
    "\n",
    "### Decision Boundary: \n",
    "The decision boundary is a hypersurface that separates the data points of different classes in a classification problem. It defines the region where one class ends and another begins.\n",
    "\n",
    "### Linear Separability\n",
    "Linear separability refers to the property of a dataset where the classes can be perfectly separated by a straight line or hyperplane in the feature space.\n",
    "\n",
    "### Nonlinearly Separable\n",
    "Nonlinearly separable refers to the property of a dataset where the classes cannot be separated by a straight line or hyperplane in the feature space. Instead, they require a nonlinear decision boundary.\n",
    "\n",
    "### Linear SVM \n",
    "Linear SVM is a variant of the SVM algorithm that assumes the input data is linearly separable. It finds the optimal linear hyperplane that best separates the classes.\n",
    "\n",
    "### Advantages and Disadvantages of SVM\n",
    "Advantages: SVMs are effective in high-dimensional spaces, memory efficient, versatile due to different kernel options, and robust against overfitting when regularization is applied.\n",
    "\n",
    "Disadvantages: SVMs can be sensitive to the choice of kernel parameters, computationally intensive for large datasets, and less interpretable compared to simpler models like decision trees. Additionally, they may not perform well with noisy data or datasets with overlapping classes.\n",
    "\n"
   ]
  },
  {
   "cell_type": "markdown",
   "metadata": {},
   "source": [
    "## Equation of  Linear SVM:\n",
    "### The two-dimensional linearly separable data can be separated by a line. \n",
    "#### The function of the line is $ y=ax+b $ and it can be writen as  $ y - ax− b=0 $\n",
    "\n",
    "#### Given two vectors  $ W = \\begin{bmatrix} -b \\\\-a \\\\1\\end {bmatrix} $ and  $ x = \\begin{bmatrix} 1 \\\\x \\\\y\\end {bmatrix}$\n",
    "###  we get: $ w^{T}⋅x= −b *(1)+(−a) * x + 1 * y $ \n",
    "\n",
    "\n",
    "This equation is derived from two-dimensional vectors. But in fact, it also works for any number of dimensions. This is the equation of the hyperplane.\n",
    "\n",
    "\n",
    "### Classifier\n",
    "\n",
    "#### Once we have the hyperplane, we can then use the hyperplane to make predictions. We define the hypothesis function h as: \n",
    "$ h(x)=+1 \\; if \\;\\; w^{T}.x+b≥0 \\;\\;and \\;\\; h(x)=-1 \\; if \\;\\; w^{T}.x+b<0 $\n",
    "\n",
    "The point above or on the hyperplane will be classified as class +1, and the point below the hyperplane will be classified as class -1.\n",
    "\n",
    "#### The goal of the SVM learning algorithm is to find a hyperplane which could separate the data accurately. There might be many such hyperplanes. And we need to find the best one, which is often referred as the optimal hyperplane."
   ]
  },
  {
   "cell_type": "markdown",
   "metadata": {},
   "source": [
    "## Using Linear SVM classify the apple_orange dataset and evaluate its perfomance on test data set"
   ]
  },
  {
   "cell_type": "code",
   "execution_count": 1,
   "metadata": {},
   "outputs": [],
   "source": [
    "import pandas as pd"
   ]
  },
  {
   "cell_type": "code",
   "execution_count": 2,
   "metadata": {},
   "outputs": [
    {
     "data": {
      "text/html": [
       "<div>\n",
       "<style scoped>\n",
       "    .dataframe tbody tr th:only-of-type {\n",
       "        vertical-align: middle;\n",
       "    }\n",
       "\n",
       "    .dataframe tbody tr th {\n",
       "        vertical-align: top;\n",
       "    }\n",
       "\n",
       "    .dataframe thead th {\n",
       "        text-align: right;\n",
       "    }\n",
       "</style>\n",
       "<table border=\"1\" class=\"dataframe\">\n",
       "  <thead>\n",
       "    <tr style=\"text-align: right;\">\n",
       "      <th></th>\n",
       "      <th>weight of each of the fruit (grams)</th>\n",
       "      <th>Size of each of\\nthe fruit (cm)</th>\n",
       "      <th>Type of Fruit</th>\n",
       "    </tr>\n",
       "  </thead>\n",
       "  <tbody>\n",
       "    <tr>\n",
       "      <th>0</th>\n",
       "      <td>69</td>\n",
       "      <td>4.39</td>\n",
       "      <td>orange</td>\n",
       "    </tr>\n",
       "    <tr>\n",
       "      <th>1</th>\n",
       "      <td>69</td>\n",
       "      <td>4.21</td>\n",
       "      <td>orange</td>\n",
       "    </tr>\n",
       "    <tr>\n",
       "      <th>2</th>\n",
       "      <td>65</td>\n",
       "      <td>4.09</td>\n",
       "      <td>orange</td>\n",
       "    </tr>\n",
       "    <tr>\n",
       "      <th>3</th>\n",
       "      <td>72</td>\n",
       "      <td>5.85</td>\n",
       "      <td>apple</td>\n",
       "    </tr>\n",
       "    <tr>\n",
       "      <th>4</th>\n",
       "      <td>67</td>\n",
       "      <td>4.70</td>\n",
       "      <td>orange</td>\n",
       "    </tr>\n",
       "  </tbody>\n",
       "</table>\n",
       "</div>"
      ],
      "text/plain": [
       "   weight of each of the fruit (grams)  Size of each of\\nthe fruit (cm)  \\\n",
       "0                                   69                             4.39   \n",
       "1                                   69                             4.21   \n",
       "2                                   65                             4.09   \n",
       "3                                   72                             5.85   \n",
       "4                                   67                             4.70   \n",
       "\n",
       "  Type of Fruit  \n",
       "0        orange  \n",
       "1        orange  \n",
       "2        orange  \n",
       "3         apple  \n",
       "4        orange  "
      ]
     },
     "execution_count": 2,
     "metadata": {},
     "output_type": "execute_result"
    }
   ],
   "source": [
    "df = pd.read_csv('C:/Users/acer/nikhil/DataMiningLab/lab/applorng.csv')\n",
    "df.head()"
   ]
  },
  {
   "cell_type": "code",
   "execution_count": 3,
   "metadata": {},
   "outputs": [],
   "source": [
    "X = df.drop('Type of Fruit', axis=1)\n",
    "y = df['Type of Fruit']"
   ]
  },
  {
   "cell_type": "code",
   "execution_count": 4,
   "metadata": {},
   "outputs": [],
   "source": [
    "from sklearn.model_selection import train_test_split\n",
    "training_set, test_set = train_test_split(df, test_size = 0.2, random_state = 10)"
   ]
  },
  {
   "cell_type": "code",
   "execution_count": 5,
   "metadata": {},
   "outputs": [],
   "source": [
    "X_train = training_set.iloc[:,0:2].values  # weight and size of the train sample \n",
    "Y_train = training_set.iloc[:,2].values  # Actual class label of the train sample \n",
    "X_test = test_set.iloc[:,0:2].values  # weight and size of the test samples\n",
    "Y_test = test_set.iloc[:,2].values   # Actual class label of the test sample "
   ]
  },
  {
   "cell_type": "code",
   "execution_count": 6,
   "metadata": {},
   "outputs": [
    {
     "name": "stdout",
     "output_type": "stream",
     "text": [
      "[[65.    4.09]\n",
      " [70.    4.22]\n",
      " [69.    4.11]\n",
      " [73.    5.78]\n",
      " [74.    5.22]\n",
      " [68.    4.47]\n",
      " [75.    5.11]\n",
      " [67.    4.25]]\n"
     ]
    }
   ],
   "source": [
    "print(X_test)"
   ]
  },
  {
   "cell_type": "code",
   "execution_count": 7,
   "metadata": {},
   "outputs": [
    {
     "name": "stdout",
     "output_type": "stream",
     "text": [
      "['orange' 'orange' 'orange' 'apple' 'apple' 'orange' 'apple' 'orange']\n"
     ]
    }
   ],
   "source": [
    "print(Y_test)   # Actual class label of the test sample "
   ]
  },
  {
   "cell_type": "code",
   "execution_count": 8,
   "metadata": {},
   "outputs": [
    {
     "name": "stdout",
     "output_type": "stream",
     "text": [
      "    weight of each of the fruit (grams)  Size of each of\\nthe fruit (cm)  \\\n",
      "2                                    65                             4.09   \n",
      "27                                   70                             4.22   \n",
      "35                                   69                             4.11   \n",
      "30                                   73                             5.78   \n",
      "14                                   74                             5.22   \n",
      "13                                   68                             4.47   \n",
      "7                                    75                             5.11   \n",
      "24                                   67                             4.25   \n",
      "\n",
      "   Type of Fruit  \n",
      "2         orange  \n",
      "27        orange  \n",
      "35        orange  \n",
      "30         apple  \n",
      "14         apple  \n",
      "13        orange  \n",
      "7          apple  \n",
      "24        orange  \n"
     ]
    }
   ],
   "source": [
    "print(test_set) "
   ]
  },
  {
   "cell_type": "code",
   "execution_count": 9,
   "metadata": {},
   "outputs": [
    {
     "data": {
      "text/html": [
       "<style>#sk-container-id-1 {color: black;}#sk-container-id-1 pre{padding: 0;}#sk-container-id-1 div.sk-toggleable {background-color: white;}#sk-container-id-1 label.sk-toggleable__label {cursor: pointer;display: block;width: 100%;margin-bottom: 0;padding: 0.3em;box-sizing: border-box;text-align: center;}#sk-container-id-1 label.sk-toggleable__label-arrow:before {content: \"▸\";float: left;margin-right: 0.25em;color: #696969;}#sk-container-id-1 label.sk-toggleable__label-arrow:hover:before {color: black;}#sk-container-id-1 div.sk-estimator:hover label.sk-toggleable__label-arrow:before {color: black;}#sk-container-id-1 div.sk-toggleable__content {max-height: 0;max-width: 0;overflow: hidden;text-align: left;background-color: #f0f8ff;}#sk-container-id-1 div.sk-toggleable__content pre {margin: 0.2em;color: black;border-radius: 0.25em;background-color: #f0f8ff;}#sk-container-id-1 input.sk-toggleable__control:checked~div.sk-toggleable__content {max-height: 200px;max-width: 100%;overflow: auto;}#sk-container-id-1 input.sk-toggleable__control:checked~label.sk-toggleable__label-arrow:before {content: \"▾\";}#sk-container-id-1 div.sk-estimator input.sk-toggleable__control:checked~label.sk-toggleable__label {background-color: #d4ebff;}#sk-container-id-1 div.sk-label input.sk-toggleable__control:checked~label.sk-toggleable__label {background-color: #d4ebff;}#sk-container-id-1 input.sk-hidden--visually {border: 0;clip: rect(1px 1px 1px 1px);clip: rect(1px, 1px, 1px, 1px);height: 1px;margin: -1px;overflow: hidden;padding: 0;position: absolute;width: 1px;}#sk-container-id-1 div.sk-estimator {font-family: monospace;background-color: #f0f8ff;border: 1px dotted black;border-radius: 0.25em;box-sizing: border-box;margin-bottom: 0.5em;}#sk-container-id-1 div.sk-estimator:hover {background-color: #d4ebff;}#sk-container-id-1 div.sk-parallel-item::after {content: \"\";width: 100%;border-bottom: 1px solid gray;flex-grow: 1;}#sk-container-id-1 div.sk-label:hover label.sk-toggleable__label {background-color: #d4ebff;}#sk-container-id-1 div.sk-serial::before {content: \"\";position: absolute;border-left: 1px solid gray;box-sizing: border-box;top: 0;bottom: 0;left: 50%;z-index: 0;}#sk-container-id-1 div.sk-serial {display: flex;flex-direction: column;align-items: center;background-color: white;padding-right: 0.2em;padding-left: 0.2em;position: relative;}#sk-container-id-1 div.sk-item {position: relative;z-index: 1;}#sk-container-id-1 div.sk-parallel {display: flex;align-items: stretch;justify-content: center;background-color: white;position: relative;}#sk-container-id-1 div.sk-item::before, #sk-container-id-1 div.sk-parallel-item::before {content: \"\";position: absolute;border-left: 1px solid gray;box-sizing: border-box;top: 0;bottom: 0;left: 50%;z-index: -1;}#sk-container-id-1 div.sk-parallel-item {display: flex;flex-direction: column;z-index: 1;position: relative;background-color: white;}#sk-container-id-1 div.sk-parallel-item:first-child::after {align-self: flex-end;width: 50%;}#sk-container-id-1 div.sk-parallel-item:last-child::after {align-self: flex-start;width: 50%;}#sk-container-id-1 div.sk-parallel-item:only-child::after {width: 0;}#sk-container-id-1 div.sk-dashed-wrapped {border: 1px dashed gray;margin: 0 0.4em 0.5em 0.4em;box-sizing: border-box;padding-bottom: 0.4em;background-color: white;}#sk-container-id-1 div.sk-label label {font-family: monospace;font-weight: bold;display: inline-block;line-height: 1.2em;}#sk-container-id-1 div.sk-label-container {text-align: center;}#sk-container-id-1 div.sk-container {/* jupyter's `normalize.less` sets `[hidden] { display: none; }` but bootstrap.min.css set `[hidden] { display: none !important; }` so we also need the `!important` here to be able to override the default hidden behavior on the sphinx rendered scikit-learn.org. See: https://github.com/scikit-learn/scikit-learn/issues/21755 */display: inline-block !important;position: relative;}#sk-container-id-1 div.sk-text-repr-fallback {display: none;}</style><div id=\"sk-container-id-1\" class=\"sk-top-container\"><div class=\"sk-text-repr-fallback\"><pre>SVC(kernel=&#x27;linear&#x27;, random_state=10)</pre><b>In a Jupyter environment, please rerun this cell to show the HTML representation or trust the notebook. <br />On GitHub, the HTML representation is unable to render, please try loading this page with nbviewer.org.</b></div><div class=\"sk-container\" hidden><div class=\"sk-item\"><div class=\"sk-estimator sk-toggleable\"><input class=\"sk-toggleable__control sk-hidden--visually\" id=\"sk-estimator-id-1\" type=\"checkbox\" checked><label for=\"sk-estimator-id-1\" class=\"sk-toggleable__label sk-toggleable__label-arrow\">SVC</label><div class=\"sk-toggleable__content\"><pre>SVC(kernel=&#x27;linear&#x27;, random_state=10)</pre></div></div></div></div></div>"
      ],
      "text/plain": [
       "SVC(kernel='linear', random_state=10)"
      ]
     },
     "execution_count": 9,
     "metadata": {},
     "output_type": "execute_result"
    }
   ],
   "source": [
    "from sklearn.svm import SVC\n",
    "svclassifier = SVC(kernel='linear',random_state = 10) # kernel{‘linear’, ‘poly’, ‘rbf’, ‘sigmoid’, ‘precomputed’} or callable, default=’rbf’ \n",
    "                                 #Specifies the kernel type to be used in the algorithm. If none is given, ‘rbf’ will be used.\n",
    "svclassifier.fit(X_train, Y_train)"
   ]
  },
  {
   "cell_type": "markdown",
   "metadata": {},
   "source": [
    "## Predicting the classes for test set"
   ]
  },
  {
   "cell_type": "code",
   "execution_count": 10,
   "metadata": {},
   "outputs": [
    {
     "name": "stdout",
     "output_type": "stream",
     "text": [
      "['orange' 'orange' 'orange' 'apple' 'apple' 'orange' 'apple' 'orange']\n"
     ]
    }
   ],
   "source": [
    "Y_pred = svclassifier.predict(X_test)\n",
    "print(Y_pred)"
   ]
  },
  {
   "cell_type": "markdown",
   "metadata": {},
   "source": [
    "## Attaching the predictions to test set for comparing\n",
    "\n",
    "\n",
    "Comparing the actual classes and predictions"
   ]
  },
  {
   "cell_type": "code",
   "execution_count": 11,
   "metadata": {},
   "outputs": [
    {
     "name": "stdout",
     "output_type": "stream",
     "text": [
      "    weight of each of the fruit (grams)  Size of each of\\nthe fruit (cm)  \\\n",
      "2                                    65                             4.09   \n",
      "27                                   70                             4.22   \n",
      "35                                   69                             4.11   \n",
      "30                                   73                             5.78   \n",
      "14                                   74                             5.22   \n",
      "13                                   68                             4.47   \n",
      "7                                    75                             5.11   \n",
      "24                                   67                             4.25   \n",
      "\n",
      "   Type of Fruit Predictions  \n",
      "2         orange      orange  \n",
      "27        orange      orange  \n",
      "35        orange      orange  \n",
      "30         apple       apple  \n",
      "14         apple       apple  \n",
      "13        orange      orange  \n",
      "7          apple       apple  \n",
      "24        orange      orange  \n"
     ]
    }
   ],
   "source": [
    "test_set[\"Predictions\"] = Y_pred  # Y_pred is the predicted class of the given fruit using SVM linear classifier when given \n",
    "                                  # X_test weight and  height  of the fruit.\n",
    "print(test_set)"
   ]
  },
  {
   "cell_type": "markdown",
   "metadata": {},
   "source": [
    "## Evaluating the Algorithm using Confusion matrix, precision, recall, and F1 measures"
   ]
  },
  {
   "cell_type": "code",
   "execution_count": 12,
   "metadata": {},
   "outputs": [
    {
     "data": {
      "text/plain": [
       "array([[3, 0],\n",
       "       [0, 5]])"
      ]
     },
     "execution_count": 12,
     "metadata": {},
     "output_type": "execute_result"
    }
   ],
   "source": [
    "from sklearn.metrics import classification_report, confusion_matrix\n",
    "cm = confusion_matrix(Y_test,Y_pred)\n",
    "cm"
   ]
  },
  {
   "cell_type": "code",
   "execution_count": 13,
   "metadata": {},
   "outputs": [
    {
     "name": "stdout",
     "output_type": "stream",
     "text": [
      "              precision    recall  f1-score   support\n",
      "\n",
      "       apple       1.00      1.00      1.00         3\n",
      "      orange       1.00      1.00      1.00         5\n",
      "\n",
      "    accuracy                           1.00         8\n",
      "   macro avg       1.00      1.00      1.00         8\n",
      "weighted avg       1.00      1.00      1.00         8\n",
      "\n"
     ]
    }
   ],
   "source": [
    "print(classification_report(Y_test,Y_pred))"
   ]
  },
  {
   "cell_type": "code",
   "execution_count": null,
   "metadata": {},
   "outputs": [],
   "source": []
  }
 ],
 "metadata": {
  "kernelspec": {
   "display_name": "Python 3 (ipykernel)",
   "language": "python",
   "name": "python3"
  },
  "language_info": {
   "codemirror_mode": {
    "name": "ipython",
    "version": 3
   },
   "file_extension": ".py",
   "mimetype": "text/x-python",
   "name": "python",
   "nbconvert_exporter": "python",
   "pygments_lexer": "ipython3",
   "version": "3.10.9"
  }
 },
 "nbformat": 4,
 "nbformat_minor": 2
}
